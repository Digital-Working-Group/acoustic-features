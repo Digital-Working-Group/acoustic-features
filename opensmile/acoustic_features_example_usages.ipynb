{
 "cells": [
  {
   "cell_type": "markdown",
   "id": "f59e0f6d",
   "metadata": {},
   "source": [
    "# Acoustic Features Examples"
   ]
  },
  {
   "cell_type": "markdown",
   "id": "4ae7dbe1",
   "metadata": {},
   "source": [
    "This Jupyter Notebook is part of a larger voice feature extraction toolkit developed to study brain ageing by means of acoustic features.\n",
    "\n",
    "This repository contains scripts that show examples of how to use the openSMILE Python library to generate acoustic features via various feature levels from several feature sets.\n",
    "\n",
    "Specifically, this notebook contains examples of how to use openSMILE, an open-source toolkit for audio analysis, to extract acoustic features"
   ]
  },
  {
   "cell_type": "markdown",
   "id": "2da00368",
   "metadata": {},
   "source": [
    "## Installation Instructions"
   ]
  },
  {
   "cell_type": "markdown",
   "id": "5ea7e708",
   "metadata": {},
   "source": [
    "openSMILE and scikit-learn are required to run these examples\n",
    "\n",
    "For specific installation instructions [View README](https://github.com/Digital-Working-Group/acoustic-features/blob/main/opensmile/README.md#installation)"
   ]
  },
  {
   "cell_type": "markdown",
   "id": "56182596",
   "metadata": {},
   "source": [
    "## Example Usages"
   ]
  },
  {
   "cell_type": "code",
   "execution_count": 1,
   "id": "7e28fa78",
   "metadata": {},
   "outputs": [
    {
     "name": "stderr",
     "output_type": "stream",
     "text": [
      "C:\\Users\\hazel\\anaconda3\\Lib\\site-packages\\pandas\\core\\arrays\\masked.py:61: UserWarning: Pandas requires version '1.3.6' or newer of 'bottleneck' (version '1.3.5' currently installed).\n",
      "  from pandas.core import (\n"
     ]
    }
   ],
   "source": [
    "from osm import extract_osm_features"
   ]
  },
  {
   "cell_type": "markdown",
   "id": "0384b903",
   "metadata": {},
   "source": [
    "The extract_osm_features() function takes an audio file and a list of arguments as input. It extracts frequency characterists of an audio using openSMILE and writes the features to a CSV.\n",
    "\n",
    "The following examples show outputs of function calls on a sample audio file using various arguments."
   ]
  },
  {
   "cell_type": "markdown",
   "id": "8a2fe5ec",
   "metadata": {},
   "source": [
    "### Feature Set: Compare_2016"
   ]
  },
  {
   "cell_type": "markdown",
   "id": "ccdc2ac1",
   "metadata": {},
   "source": [
    "The following code block shows an example of extracting features from the sample audio file, specifying the feature set and feature level to be used.\n",
    "\n",
    "In this case, we use the feature set compare_2016 and the feature level 11d_de"
   ]
  },
  {
   "cell_type": "code",
   "execution_count": 2,
   "id": "c3af6cff",
   "metadata": {},
   "outputs": [
    {
     "name": "stdout",
     "output_type": "stream",
     "text": [
      "sample_audio/wav/compare_2016/first_ten_Sample_HV_Clip_lld_compare_2016.csv\n",
      "sample_audio/wav/compare_2016/first_ten_Sample_HV_Clip_func_compare_2016.csv\n",
      "sample_audio/wav/compare_2016/first_ten_Sample_HV_Clip_lld_de_compare_2016.csv\n"
     ]
    },
    {
     "data": {
      "text/plain": [
       "'sample_audio/wav/compare_2016/first_ten_Sample_HV_Clip_lld_de_compare_2016.csv'"
      ]
     },
     "execution_count": 2,
     "metadata": {},
     "output_type": "execute_result"
    }
   ],
   "source": [
    "#sample audio file\n",
    "wav_fp = 'sample_audio/wav/first_ten_Sample_HV_Clip.wav'\n",
    "\n",
    "#function calls\n",
    "extract_osm_features(wav_fp)\n",
    "extract_osm_features(wav_fp, feat_level='func')\n",
    "extract_osm_features(wav_fp, feat_level='lld_de')"
   ]
  },
  {
   "cell_type": "markdown",
   "id": "c9adf6d1",
   "metadata": {},
   "source": [
    "### Feature Set: eGeMAPSv02"
   ]
  },
  {
   "cell_type": "markdown",
   "id": "7e0499ae",
   "metadata": {},
   "source": [
    "The following codeblock shows an example output using the sample audio file with the feature set eGeMAPSv02 and feature level func."
   ]
  },
  {
   "cell_type": "code",
   "execution_count": 3,
   "id": "d7879df8",
   "metadata": {},
   "outputs": [
    {
     "name": "stdout",
     "output_type": "stream",
     "text": [
      "sample_audio/wav/egemapsv02/first_ten_Sample_HV_Clip_lld_egemapsv02.csv\n",
      "sample_audio/wav/egemapsv02/first_ten_Sample_HV_Clip_func_egemapsv02.csv\n"
     ]
    },
    {
     "data": {
      "text/plain": [
       "'sample_audio/wav/egemapsv02/first_ten_Sample_HV_Clip_func_egemapsv02.csv'"
      ]
     },
     "execution_count": 3,
     "metadata": {},
     "output_type": "execute_result"
    }
   ],
   "source": [
    "wav_fp = 'sample_audio/wav/first_ten_Sample_HV_Clip.wav'\n",
    "\n",
    "extract_osm_features(wav_fp, feat_set='eGeMAPSv02')\n",
    "extract_osm_features(wav_fp,\n",
    "feat_level='func', feat_set='eGeMAPSv02')"
   ]
  },
  {
   "cell_type": "markdown",
   "id": "df14b7ac",
   "metadata": {},
   "source": [
    "### Feature Set: GeMAPSv01b"
   ]
  },
  {
   "cell_type": "markdown",
   "id": "b4cf625a",
   "metadata": {},
   "source": [
    "The following codeblock shows an example output using the sample audio file with the feature set GeMAPSv01b and feature level func."
   ]
  },
  {
   "cell_type": "code",
   "execution_count": 4,
   "id": "6cd0e597",
   "metadata": {},
   "outputs": [
    {
     "name": "stdout",
     "output_type": "stream",
     "text": [
      "sample_audio/wav/gemapsv01b/first_ten_Sample_HV_Clip_lld_gemapsv01b.csv\n",
      "sample_audio/wav/gemapsv01b/first_ten_Sample_HV_Clip_func_gemapsv01b.csv\n"
     ]
    },
    {
     "data": {
      "text/plain": [
       "'sample_audio/wav/gemapsv01b/first_ten_Sample_HV_Clip_func_gemapsv01b.csv'"
      ]
     },
     "execution_count": 4,
     "metadata": {},
     "output_type": "execute_result"
    }
   ],
   "source": [
    "wav_fp = 'sample_audio/wav/first_ten_Sample_HV_Clip.wav'\n",
    "\n",
    "extract_osm_features(wav_fp, feat_set='GeMAPSv01b')\n",
    "extract_osm_features(wav_fp,\n",
    "feat_level='func', feat_set='GeMAPSv01b')"
   ]
  },
  {
   "cell_type": "markdown",
   "id": "8adb9b12",
   "metadata": {},
   "source": [
    "### Feature Set: Compare_2016 (resampled audio)"
   ]
  },
  {
   "cell_type": "markdown",
   "id": "d08aee37",
   "metadata": {},
   "source": [
    "The following codeblock shows an example output using the sample audio file with the feature set compare_2016 and feature level func.\n",
    "\n",
    "Addionally, the audio is resampled to a sampling rate of 16,000 Hz before feature extraction"
   ]
  },
  {
   "cell_type": "code",
   "execution_count": 5,
   "id": "ddaf2f5d",
   "metadata": {},
   "outputs": [
    {
     "name": "stdout",
     "output_type": "stream",
     "text": [
      "sample_audio/wav/compare_2016/16KHz/first_ten_Sample_HV_Clip_lld_compare_2016_16KHz.csv\n",
      "sample_audio/wav/compare_2016/16KHz/first_ten_Sample_HV_Clip_func_compare_2016_16KHz.csv\n",
      "sample_audio/wav/compare_2016/16KHz/first_ten_Sample_HV_Clip_lld_de_compare_2016_16KHz.csv\n"
     ]
    },
    {
     "data": {
      "text/plain": [
       "'sample_audio/wav/compare_2016/16KHz/first_ten_Sample_HV_Clip_lld_de_compare_2016_16KHz.csv'"
      ]
     },
     "execution_count": 5,
     "metadata": {},
     "output_type": "execute_result"
    }
   ],
   "source": [
    "wav_fp = 'sample_audio/wav/first_ten_Sample_HV_Clip.wav'\n",
    "\n",
    "sampling_rate = 16000\n",
    "\n",
    "extract_osm_features(wav_fp, sampling_rate=sampling_rate)\n",
    "extract_osm_features(wav_fp, feat_level='func',\n",
    "            sampling_rate=sampling_rate)\n",
    "extract_osm_features(wav_fp, feat_level='lld_de',\n",
    "            sampling_rate=sampling_rate)"
   ]
  },
  {
   "cell_type": "markdown",
   "id": "2f1a0d51",
   "metadata": {},
   "source": [
    "### Feature Set: eGeMAPSv02 (resampled audio)"
   ]
  },
  {
   "cell_type": "markdown",
   "id": "2e9b8d54",
   "metadata": {},
   "source": [
    "The following codeblock shows an example output using the sample audio file with the feature set eGeMAPSv02 and feature level func.\n",
    "\n",
    "Addionally, the audio is resampled to a sampling rate of 16,000 Hz before feature extraction."
   ]
  },
  {
   "cell_type": "code",
   "execution_count": 7,
   "id": "ad3e0c69",
   "metadata": {},
   "outputs": [
    {
     "name": "stdout",
     "output_type": "stream",
     "text": [
      "sample_audio/wav/egemapsv02/16KHz/first_ten_Sample_HV_Clip_lld_egemapsv02_16KHz.csv\n",
      "sample_audio/wav/egemapsv02/16KHz/first_ten_Sample_HV_Clip_func_egemapsv02_16KHz.csv\n"
     ]
    },
    {
     "data": {
      "text/plain": [
       "'sample_audio/wav/egemapsv02/16KHz/first_ten_Sample_HV_Clip_func_egemapsv02_16KHz.csv'"
      ]
     },
     "execution_count": 7,
     "metadata": {},
     "output_type": "execute_result"
    }
   ],
   "source": [
    "wav_fp = 'sample_audio/wav/first_ten_Sample_HV_Clip.wav'\n",
    "\n",
    "sampling_rate = 16000\n",
    "\n",
    "extract_osm_features(wav_fp, feat_set='eGeMAPSv02',\n",
    "            sampling_rate=sampling_rate)\n",
    "extract_osm_features(wav_fp,\n",
    "            feat_level='func', feat_set='eGeMAPSv02', sampling_rate=sampling_rate)"
   ]
  },
  {
   "cell_type": "markdown",
   "id": "12e2285c",
   "metadata": {},
   "source": [
    "### Feature Set: GeMAPSv01b (resampled audio)"
   ]
  },
  {
   "cell_type": "markdown",
   "id": "b218ed3f",
   "metadata": {},
   "source": [
    "The following codeblock shows an example output using the sample audio file with the feature set GeMAPSv01b and feature level func.\n",
    "\n",
    "Addionally, the audio is resampled to a sampling rate of 16,000 Hz before feature extraction."
   ]
  },
  {
   "cell_type": "code",
   "execution_count": 8,
   "id": "34d0c9a3",
   "metadata": {},
   "outputs": [
    {
     "name": "stdout",
     "output_type": "stream",
     "text": [
      "sample_audio/wav/gemapsv01b/16KHz/first_ten_Sample_HV_Clip_lld_gemapsv01b_16KHz.csv\n",
      "sample_audio/wav/gemapsv01b/16KHz/first_ten_Sample_HV_Clip_func_gemapsv01b_16KHz.csv\n"
     ]
    },
    {
     "data": {
      "text/plain": [
       "'sample_audio/wav/gemapsv01b/16KHz/first_ten_Sample_HV_Clip_func_gemapsv01b_16KHz.csv'"
      ]
     },
     "execution_count": 8,
     "metadata": {},
     "output_type": "execute_result"
    }
   ],
   "source": [
    "wav_fp = 'sample_audio/wav/first_ten_Sample_HV_Clip.wav'\n",
    "\n",
    "sampling_rate = 16000\n",
    "\n",
    "extract_osm_features(wav_fp, feat_set='GeMAPSv01b',\n",
    "            sampling_rate=sampling_rate)\n",
    "extract_osm_features(wav_fp,\n",
    "            feat_level='func', feat_set='GeMAPSv01b', sampling_rate=sampling_rate)"
   ]
  },
  {
   "cell_type": "code",
   "execution_count": null,
   "id": "4f1776ed",
   "metadata": {},
   "outputs": [],
   "source": []
  }
 ],
 "metadata": {
  "kernelspec": {
   "display_name": "Python 3 (ipykernel)",
   "language": "python",
   "name": "python3"
  },
  "language_info": {
   "codemirror_mode": {
    "name": "ipython",
    "version": 3
   },
   "file_extension": ".py",
   "mimetype": "text/x-python",
   "name": "python",
   "nbconvert_exporter": "python",
   "pygments_lexer": "ipython3",
   "version": "3.11.5"
  }
 },
 "nbformat": 4,
 "nbformat_minor": 5
}

{
 "cells": [
  {
   "cell_type": "code",
   "execution_count": 5,
   "metadata": {},
   "outputs": [
    {
     "name": "stdout",
     "output_type": "stream",
     "text": [
      "An error occurred: ('Connection aborted.', RemoteDisconnected('Remote end closed connection without response'))\n",
      "Failed to detect language\n"
     ]
    }
   ],
   "source": [
    "import requests\n",
    "import os\n",
    "\n",
    "def detect_language_speechbrain_container(input_file, port=8001):\n",
    "    url = f\"http://localhost:{port}/identify_language\"\n",
    "    \n",
    "    # Check if file exists\n",
    "    if not os.path.isfile(input_file):\n",
    "        print(f\"Error: File {input_file} does not exist.\")\n",
    "        return None\n",
    "    \n",
    "    # Open file in binary mode\n",
    "    with open(input_file, 'rb') as file:\n",
    "        # Create a dictionary with the file, using 'audio' as the key\n",
    "        files = {'audio': file}\n",
    "        \n",
    "        try:\n",
    "            # Send POST request with file\n",
    "            response = requests.post(url, files=files)\n",
    "            response.raise_for_status()  # This will raise an exception for HTTP errors\n",
    "            return response.json()\n",
    "        except requests.exceptions.RequestException as e:\n",
    "            print(f\"An error occurred: {e}\")\n",
    "            return None\n",
    "\n",
    "# Usage\n",
    "BASE_DIR = \"./standardized\"  # Replace with your actual base directory\n",
    "input_file = \"ES2016a.Mix-Headset.wav\"\n",
    "port = 8001  # Replace with your actual port number\n",
    "\n",
    "full_path = os.path.join(BASE_DIR, input_file)\n",
    "result = detect_language_speechbrain_container(full_path, port)\n",
    "\n",
    "if result:\n",
    "    print(f\"Detected language: {result}\")\n",
    "else:\n",
    "    print(\"Failed to detect language\")"
   ]
  }
 ],
 "metadata": {
  "kernelspec": {
   "display_name": "myenv",
   "language": "python",
   "name": "python3"
  },
  "language_info": {
   "codemirror_mode": {
    "name": "ipython",
    "version": 3
   },
   "file_extension": ".py",
   "mimetype": "text/x-python",
   "name": "python",
   "nbconvert_exporter": "python",
   "pygments_lexer": "ipython3",
   "version": "3.9.19"
  }
 },
 "nbformat": 4,
 "nbformat_minor": 2
}
